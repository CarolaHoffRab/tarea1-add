{
 "cells": [
  {
   "cell_type": "code",
   "execution_count": 38,
   "metadata": {},
   "outputs": [],
   "source": [
    "import pandas as pd\n",
    "import re\n"
   ]
  },
  {
   "cell_type": "markdown",
   "metadata": {},
   "source": [
    "### 1. Cargue el archivo dolar_2019_sii.csv a un dataframe que se llame dolar_2019 usando pandas. ¿Que argumento necesita pd.read_csv() para leer las columnas correctamente?"
   ]
  },
  {
   "cell_type": "code",
   "execution_count": 45,
   "metadata": {},
   "outputs": [
    {
     "data": {
      "text/html": [
       "<div>\n",
       "<style scoped>\n",
       "    .dataframe tbody tr th:only-of-type {\n",
       "        vertical-align: middle;\n",
       "    }\n",
       "\n",
       "    .dataframe tbody tr th {\n",
       "        vertical-align: top;\n",
       "    }\n",
       "\n",
       "    .dataframe thead th {\n",
       "        text-align: right;\n",
       "    }\n",
       "</style>\n",
       "<table border=\"1\" class=\"dataframe\">\n",
       "  <thead>\n",
       "    <tr style=\"text-align: right;\">\n",
       "      <th></th>\n",
       "      <th>Día</th>\n",
       "      <th>Ene</th>\n",
       "      <th>Feb</th>\n",
       "      <th>Mar</th>\n",
       "      <th>Abr</th>\n",
       "      <th>May</th>\n",
       "      <th>Jun</th>\n",
       "      <th>Jul</th>\n",
       "      <th>Ago</th>\n",
       "      <th>Sep</th>\n",
       "      <th>Oct</th>\n",
       "      <th>Nov</th>\n",
       "      <th>Dic</th>\n",
       "    </tr>\n",
       "  </thead>\n",
       "  <tbody>\n",
       "    <tr>\n",
       "      <th>0</th>\n",
       "      <td>1</td>\n",
       "      <td>NaN</td>\n",
       "      <td>657,81</td>\n",
       "      <td>651,79</td>\n",
       "      <td>678,53</td>\n",
       "      <td>NaN</td>\n",
       "      <td>NaN</td>\n",
       "      <td>679,15</td>\n",
       "      <td>700,82</td>\n",
       "      <td>NaN</td>\n",
       "      <td>728,21</td>\n",
       "      <td>NaN</td>\n",
       "      <td>NaN</td>\n",
       "    </tr>\n",
       "    <tr>\n",
       "      <th>1</th>\n",
       "      <td>2</td>\n",
       "      <td>694,77</td>\n",
       "      <td>NaN</td>\n",
       "      <td>NaN</td>\n",
       "      <td>672,56</td>\n",
       "      <td>678,71</td>\n",
       "      <td>NaN</td>\n",
       "      <td>677,62</td>\n",
       "      <td>704,88</td>\n",
       "      <td>720,20</td>\n",
       "      <td>729,38</td>\n",
       "      <td>NaN</td>\n",
       "      <td>812,13</td>\n",
       "    </tr>\n",
       "    <tr>\n",
       "      <th>2</th>\n",
       "      <td>3</td>\n",
       "      <td>697,09</td>\n",
       "      <td>NaN</td>\n",
       "      <td>NaN</td>\n",
       "      <td>670,05</td>\n",
       "      <td>683,31</td>\n",
       "      <td>709,80</td>\n",
       "      <td>681,30</td>\n",
       "      <td>NaN</td>\n",
       "      <td>724,72</td>\n",
       "      <td>727,80</td>\n",
       "      <td>NaN</td>\n",
       "      <td>804,29</td>\n",
       "    </tr>\n",
       "    <tr>\n",
       "      <th>3</th>\n",
       "      <td>4</td>\n",
       "      <td>697,64</td>\n",
       "      <td>655,39</td>\n",
       "      <td>656,57</td>\n",
       "      <td>667,55</td>\n",
       "      <td>NaN</td>\n",
       "      <td>704,59</td>\n",
       "      <td>680,48</td>\n",
       "      <td>NaN</td>\n",
       "      <td>725,69</td>\n",
       "      <td>719,53</td>\n",
       "      <td>735,05</td>\n",
       "      <td>802,44</td>\n",
       "    </tr>\n",
       "    <tr>\n",
       "      <th>4</th>\n",
       "      <td>5</td>\n",
       "      <td>NaN</td>\n",
       "      <td>653,80</td>\n",
       "      <td>659,07</td>\n",
       "      <td>666,32</td>\n",
       "      <td>NaN</td>\n",
       "      <td>696,78</td>\n",
       "      <td>677,64</td>\n",
       "      <td>711,13</td>\n",
       "      <td>723,30</td>\n",
       "      <td>NaN</td>\n",
       "      <td>736,66</td>\n",
       "      <td>796,75</td>\n",
       "    </tr>\n",
       "  </tbody>\n",
       "</table>\n",
       "</div>"
      ],
      "text/plain": [
       "  Día     Ene     Feb     Mar     Abr     May     Jun     Jul     Ago     Sep  \\\n",
       "0   1     NaN  657,81  651,79  678,53     NaN     NaN  679,15  700,82     NaN   \n",
       "1   2  694,77     NaN     NaN  672,56  678,71     NaN  677,62  704,88  720,20   \n",
       "2   3  697,09     NaN     NaN  670,05  683,31  709,80  681,30     NaN  724,72   \n",
       "3   4  697,64  655,39  656,57  667,55     NaN  704,59  680,48     NaN  725,69   \n",
       "4   5     NaN  653,80  659,07  666,32     NaN  696,78  677,64  711,13  723,30   \n",
       "\n",
       "      Oct     Nov     Dic  \n",
       "0  728,21     NaN     NaN  \n",
       "1  729,38     NaN  812,13  \n",
       "2  727,80     NaN  804,29  \n",
       "3  719,53  735,05  802,44  \n",
       "4     NaN  736,66  796,75  "
      ]
     },
     "execution_count": 45,
     "metadata": {},
     "output_type": "execute_result"
    }
   ],
   "source": [
    "dolar_2019 = pd.read_csv('../data/raw/dolar2019_sii.csv', sep=';')\n",
    "dolar_2019.head(5)"
   ]
  },
  {
   "cell_type": "markdown",
   "metadata": {},
   "source": [
    "### 2. Explore el archivo dolar_2020_sii.txt. ¿Qué estructura tiene, en que se diferencia y en qué es igual al dataframe anterior? ¿Qué método y argumento hay que usar para leer las columnas correctamente?. Carguelo en un dataframe llamado dolar_2020_txt."
   ]
  },
  {
   "cell_type": "code",
   "execution_count": 47,
   "metadata": {},
   "outputs": [
    {
     "data": {
      "text/html": [
       "<div>\n",
       "<style scoped>\n",
       "    .dataframe tbody tr th:only-of-type {\n",
       "        vertical-align: middle;\n",
       "    }\n",
       "\n",
       "    .dataframe tbody tr th {\n",
       "        vertical-align: top;\n",
       "    }\n",
       "\n",
       "    .dataframe thead th {\n",
       "        text-align: right;\n",
       "    }\n",
       "</style>\n",
       "<table border=\"1\" class=\"dataframe\">\n",
       "  <thead>\n",
       "    <tr style=\"text-align: right;\">\n",
       "      <th></th>\n",
       "      <th>1</th>\n",
       "      <th>Unnamed: 1</th>\n",
       "      <th>Unnamed: 2</th>\n",
       "      <th>Unnamed: 3</th>\n",
       "      <th>852,03</th>\n",
       "      <th>Unnamed: 5</th>\n",
       "      <th>806,32</th>\n",
       "      <th>821,23</th>\n",
       "      <th>Unnamed: 8</th>\n",
       "      <th>776,46</th>\n",
       "      <th>788,15</th>\n",
       "      <th>Unnamed: 11</th>\n",
       "      <th>767,29</th>\n",
       "    </tr>\n",
       "  </thead>\n",
       "  <tbody>\n",
       "    <tr>\n",
       "      <th>0</th>\n",
       "      <td>2</td>\n",
       "      <td>748,74</td>\n",
       "      <td>NaN</td>\n",
       "      <td>818,32</td>\n",
       "      <td>863,81</td>\n",
       "      <td>NaN</td>\n",
       "      <td>796,46</td>\n",
       "      <td>816,29</td>\n",
       "      <td>NaN</td>\n",
       "      <td>770,59</td>\n",
       "      <td>785,04</td>\n",
       "      <td>771,92</td>\n",
       "      <td>760,16</td>\n",
       "    </tr>\n",
       "    <tr>\n",
       "      <th>1</th>\n",
       "      <td>3</td>\n",
       "      <td>754,16</td>\n",
       "      <td>799,11</td>\n",
       "      <td>817,45</td>\n",
       "      <td>861,89</td>\n",
       "      <td>NaN</td>\n",
       "      <td>782,86</td>\n",
       "      <td>803,98</td>\n",
       "      <td>757,06</td>\n",
       "      <td>771,45</td>\n",
       "      <td>NaN</td>\n",
       "      <td>769,17</td>\n",
       "      <td>755,34</td>\n",
       "    </tr>\n",
       "    <tr>\n",
       "      <th>2</th>\n",
       "      <td>4</td>\n",
       "      <td>NaN</td>\n",
       "      <td>790,92</td>\n",
       "      <td>809,81</td>\n",
       "      <td>NaN</td>\n",
       "      <td>837,92</td>\n",
       "      <td>769,13</td>\n",
       "      <td>NaN</td>\n",
       "      <td>761,34</td>\n",
       "      <td>773,71</td>\n",
       "      <td>NaN</td>\n",
       "      <td>758,53</td>\n",
       "      <td>752,03</td>\n",
       "    </tr>\n",
       "    <tr>\n",
       "      <th>3</th>\n",
       "      <td>5</td>\n",
       "      <td>NaN</td>\n",
       "      <td>781,78</td>\n",
       "      <td>812,19</td>\n",
       "      <td>NaN</td>\n",
       "      <td>838,74</td>\n",
       "      <td>775,58</td>\n",
       "      <td>NaN</td>\n",
       "      <td>767,98</td>\n",
       "      <td>NaN</td>\n",
       "      <td>790,81</td>\n",
       "      <td>757,16</td>\n",
       "      <td>NaN</td>\n",
       "    </tr>\n",
       "    <tr>\n",
       "      <th>4</th>\n",
       "      <td>6</td>\n",
       "      <td>758,49</td>\n",
       "      <td>776,99</td>\n",
       "      <td>823,28</td>\n",
       "      <td>863,99</td>\n",
       "      <td>832,84</td>\n",
       "      <td>NaN</td>\n",
       "      <td>801,46</td>\n",
       "      <td>774,82</td>\n",
       "      <td>NaN</td>\n",
       "      <td>794,34</td>\n",
       "      <td>752,01</td>\n",
       "      <td>NaN</td>\n",
       "    </tr>\n",
       "  </tbody>\n",
       "</table>\n",
       "</div>"
      ],
      "text/plain": [
       "   1 Unnamed: 1 Unnamed: 2 Unnamed: 3  852,03 Unnamed: 5  806,32  821,23  \\\n",
       "0  2     748,74        NaN     818,32  863,81        NaN  796,46  816,29   \n",
       "1  3     754,16     799,11     817,45  861,89        NaN  782,86  803,98   \n",
       "2  4        NaN     790,92     809,81     NaN     837,92  769,13     NaN   \n",
       "3  5        NaN     781,78     812,19     NaN     838,74  775,58     NaN   \n",
       "4  6     758,49     776,99     823,28  863,99     832,84     NaN  801,46   \n",
       "\n",
       "  Unnamed: 8  776,46  788,15 Unnamed: 11  767,29  \n",
       "0        NaN  770,59  785,04      771,92  760,16  \n",
       "1     757,06  771,45     NaN      769,17  755,34  \n",
       "2     761,34  773,71     NaN      758,53  752,03  \n",
       "3     767,98     NaN  790,81      757,16     NaN  \n",
       "4     774,82     NaN  794,34      752,01     NaN  "
      ]
     },
     "execution_count": 47,
     "metadata": {},
     "output_type": "execute_result"
    }
   ],
   "source": [
    "dolar_2020_txt=pd.read_csv('../data/raw/dolar_2020_sii.txt', sep='|')\n",
    "dolar_2020_txt.head(5)"
   ]
  },
  {
   "cell_type": "markdown",
   "metadata": {},
   "source": [
    "### 3. Explore el archivo dolar_2020_sii_AA.txt. ¿Qué estructura tiene? ¿Será buena idea ocupar expresiones regulares para indicar el separador? (hint: sí). Carguelo en un dataframe llamado dolar_2020_regex y compárelo con el dataframe dolar_2020_txt. ¿Son exactamente iguales en la información que traen?"
   ]
  },
  {
   "cell_type": "code",
   "execution_count": 91,
   "metadata": {},
   "outputs": [],
   "source": [
    "\n",
    "f = open(\"../data/raw/dolar_2020_sii_AA.dat\",\"r\")\n",
    "\n",
    "lines = f.readlines()\n",
    "# Idea  de Carola\n",
    "a = []\n",
    "for i in lines:\n",
    "    list = re.split('[a-zA-Zá-ý]{3}',i)\n",
    "    #print(list)\n",
    "    a.append(list)\n",
    "dolar_2020_regex = pd.DataFrame(a)\n",
    "dolar_2020_regex.drop(columns=[13,14], inplace=True)\n",
    "dolar_2020_regex[12].replace(to_replace='\\n',value='', regex=True, inplace=True)\n",
    "dolar_2020_regex = dolar_2020_regex.iloc[:-1,:] \n"
   ]
  },
  {
   "cell_type": "code",
   "execution_count": 92,
   "metadata": {},
   "outputs": [
    {
     "data": {
      "text/html": [
       "<div>\n",
       "<style scoped>\n",
       "    .dataframe tbody tr th:only-of-type {\n",
       "        vertical-align: middle;\n",
       "    }\n",
       "\n",
       "    .dataframe tbody tr th {\n",
       "        vertical-align: top;\n",
       "    }\n",
       "\n",
       "    .dataframe thead th {\n",
       "        text-align: right;\n",
       "    }\n",
       "</style>\n",
       "<table border=\"1\" class=\"dataframe\">\n",
       "  <thead>\n",
       "    <tr style=\"text-align: right;\">\n",
       "      <th></th>\n",
       "      <th>0</th>\n",
       "      <th>1</th>\n",
       "      <th>2</th>\n",
       "      <th>3</th>\n",
       "      <th>4</th>\n",
       "      <th>5</th>\n",
       "      <th>6</th>\n",
       "      <th>7</th>\n",
       "      <th>8</th>\n",
       "      <th>9</th>\n",
       "      <th>10</th>\n",
       "      <th>11</th>\n",
       "      <th>12</th>\n",
       "    </tr>\n",
       "  </thead>\n",
       "  <tbody>\n",
       "    <tr>\n",
       "      <th>26</th>\n",
       "      <td>27</td>\n",
       "      <td>776,52</td>\n",
       "      <td>811,10</td>\n",
       "      <td>836,05</td>\n",
       "      <td>859,95</td>\n",
       "      <td>802,10</td>\n",
       "      <td></td>\n",
       "      <td>768,63</td>\n",
       "      <td>786,91</td>\n",
       "      <td></td>\n",
       "      <td>779,57</td>\n",
       "      <td>766,00</td>\n",
       "      <td></td>\n",
       "    </tr>\n",
       "    <tr>\n",
       "      <th>27</th>\n",
       "      <td>28</td>\n",
       "      <td>787,86</td>\n",
       "      <td>816,26</td>\n",
       "      <td></td>\n",
       "      <td>856,76</td>\n",
       "      <td>816,47</td>\n",
       "      <td></td>\n",
       "      <td>768,81</td>\n",
       "      <td>784,27</td>\n",
       "      <td>787,15</td>\n",
       "      <td>772,05</td>\n",
       "      <td></td>\n",
       "      <td>710,26</td>\n",
       "    </tr>\n",
       "    <tr>\n",
       "      <th>28</th>\n",
       "      <td>29</td>\n",
       "      <td>788,13</td>\n",
       "      <td></td>\n",
       "      <td></td>\n",
       "      <td>850,41</td>\n",
       "      <td>812,74</td>\n",
       "      <td></td>\n",
       "      <td>767,82</td>\n",
       "      <td></td>\n",
       "      <td>784,19</td>\n",
       "      <td>775,56</td>\n",
       "      <td></td>\n",
       "      <td>710,64</td>\n",
       "    </tr>\n",
       "    <tr>\n",
       "      <th>29</th>\n",
       "      <td>30</td>\n",
       "      <td>788,18</td>\n",
       "      <td></td>\n",
       "      <td>835,23</td>\n",
       "      <td>836,62</td>\n",
       "      <td></td>\n",
       "      <td>816,36</td>\n",
       "      <td>759,18</td>\n",
       "      <td></td>\n",
       "      <td>784,46</td>\n",
       "      <td>770,45</td>\n",
       "      <td>766,69</td>\n",
       "      <td>711,24</td>\n",
       "    </tr>\n",
       "    <tr>\n",
       "      <th>30</th>\n",
       "      <td>31</td>\n",
       "      <td>797,96</td>\n",
       "      <td></td>\n",
       "      <td>846,30</td>\n",
       "      <td></td>\n",
       "      <td></td>\n",
       "      <td></td>\n",
       "      <td>754,45</td>\n",
       "      <td>779,92</td>\n",
       "      <td></td>\n",
       "      <td></td>\n",
       "      <td></td>\n",
       "      <td></td>\n",
       "    </tr>\n",
       "  </tbody>\n",
       "</table>\n",
       "</div>"
      ],
      "text/plain": [
       "    0       1       2       3       4       5       6       7       8   \\\n",
       "26  27  776,52  811,10  836,05  859,95  802,10          768,63  786,91   \n",
       "27  28  787,86  816,26          856,76  816,47          768,81  784,27   \n",
       "28  29  788,13                  850,41  812,74          767,82           \n",
       "29  30  788,18          835,23  836,62          816,36  759,18           \n",
       "30  31  797,96          846,30                          754,45  779,92   \n",
       "\n",
       "        9       10      11      12  \n",
       "26          779,57  766,00          \n",
       "27  787,15  772,05          710,26  \n",
       "28  784,19  775,56          710,64  \n",
       "29  784,46  770,45  766,69  711,24  \n",
       "30                                  "
      ]
     },
     "execution_count": 92,
     "metadata": {},
     "output_type": "execute_result"
    }
   ],
   "source": [
    "dolar_2020_regex.tail(5)"
   ]
  },
  {
   "cell_type": "markdown",
   "metadata": {},
   "source": [
    "### 4. Haga las siguientes operaciones de wrangling y limpieza:\n",
    "\n",
    "Filtre sacando la última fila, arreglando y homogeneizando los encabezados para los tres dataframes\n",
    "Revise que los nombres de las columnas sean los mismos en cada dataframe.\n",
    "Cree una columna en cada uno de los tres dataframes que se llame year y que tenga el año correspondiente, y que su type sea int64.\n",
    "Convierta las comas a puntos en cada uno de los tres dataframes.\n",
    "Fuerce que todas las variables sean de tipo int o de tipo float."
   ]
  },
  {
   "cell_type": "code",
   "execution_count": 85,
   "metadata": {},
   "outputs": [],
   "source": [
    "dolar_2020_txt.set_axis(dolar_2019.columns.to_list(), axis='columns', inplace=True)"
   ]
  },
  {
   "cell_type": "code",
   "execution_count": 93,
   "metadata": {},
   "outputs": [],
   "source": [
    "dolar_2020_regex.set_axis(dolar_2019.columns.to_list(), axis='columns', inplace=True)"
   ]
  },
  {
   "cell_type": "code",
   "execution_count": 96,
   "metadata": {},
   "outputs": [
    {
     "data": {
      "text/plain": [
       "Index(['Día', 'Ene', 'Feb', 'Mar', 'Abr', 'May', 'Jun', 'Jul', 'Ago', 'Sep',\n",
       "       'Oct', 'Nov', 'Dic'],\n",
       "      dtype='object')"
      ]
     },
     "execution_count": 96,
     "metadata": {},
     "output_type": "execute_result"
    }
   ],
   "source": [
    "dolar_2019.columns"
   ]
  },
  {
   "cell_type": "code",
   "execution_count": 97,
   "metadata": {},
   "outputs": [
    {
     "data": {
      "text/plain": [
       "Index(['Día', 'Ene', 'Feb', 'Mar', 'Abr', 'May', 'Jun', 'Jul', 'Ago', 'Sep',\n",
       "       'Oct', 'Nov', 'Dic'],\n",
       "      dtype='object')"
      ]
     },
     "execution_count": 97,
     "metadata": {},
     "output_type": "execute_result"
    }
   ],
   "source": [
    "dolar_2020_txt.columns"
   ]
  },
  {
   "cell_type": "code",
   "execution_count": 94,
   "metadata": {},
   "outputs": [
    {
     "data": {
      "text/plain": [
       "Index(['Día', 'Ene', 'Feb', 'Mar', 'Abr', 'May', 'Jun', 'Jul', 'Ago', 'Sep',\n",
       "       'Oct', 'Nov', 'Dic'],\n",
       "      dtype='object')"
      ]
     },
     "execution_count": 94,
     "metadata": {},
     "output_type": "execute_result"
    }
   ],
   "source": [
    "dolar_2020_regex.columns"
   ]
  },
  {
   "cell_type": "code",
   "execution_count": 98,
   "metadata": {},
   "outputs": [],
   "source": [
    "dolar_2019['year']=2019\n",
    "dolar_2020_txt['year']=2020\n",
    "dolar_2020_regex['year']=2020"
   ]
  },
  {
   "cell_type": "code",
   "execution_count": 104,
   "metadata": {},
   "outputs": [],
   "source": [
    "dolar_2019=dolar_2019.iloc[:-1, :]"
   ]
  },
  {
   "cell_type": "code",
   "execution_count": 102,
   "metadata": {},
   "outputs": [],
   "source": [
    "dolar_2019.replace(to_replace=',', value='.', regex=True, inplace=True)\n",
    "dolar_2020_regex.replace(to_replace=',', value='.', regex=True, inplace=True)\n",
    "dolar_2020_txt.replace(to_replace=',', value='.', regex=True, inplace=True)"
   ]
  },
  {
   "cell_type": "code",
   "execution_count": 153,
   "metadata": {},
   "outputs": [
    {
     "data": {
      "text/html": [
       "<div>\n",
       "<style scoped>\n",
       "    .dataframe tbody tr th:only-of-type {\n",
       "        vertical-align: middle;\n",
       "    }\n",
       "\n",
       "    .dataframe tbody tr th {\n",
       "        vertical-align: top;\n",
       "    }\n",
       "\n",
       "    .dataframe thead th {\n",
       "        text-align: right;\n",
       "    }\n",
       "</style>\n",
       "<table border=\"1\" class=\"dataframe\">\n",
       "  <thead>\n",
       "    <tr style=\"text-align: right;\">\n",
       "      <th></th>\n",
       "      <th>Día</th>\n",
       "      <th>Ene</th>\n",
       "      <th>Feb</th>\n",
       "      <th>Mar</th>\n",
       "      <th>Abr</th>\n",
       "      <th>May</th>\n",
       "      <th>Jun</th>\n",
       "      <th>Jul</th>\n",
       "      <th>Ago</th>\n",
       "      <th>Sep</th>\n",
       "      <th>Oct</th>\n",
       "      <th>Nov</th>\n",
       "      <th>Dic</th>\n",
       "      <th>year</th>\n",
       "    </tr>\n",
       "  </thead>\n",
       "  <tbody>\n",
       "    <tr>\n",
       "      <th>0</th>\n",
       "      <td>1</td>\n",
       "      <td>0.00</td>\n",
       "      <td>0.0</td>\n",
       "      <td>0.00</td>\n",
       "      <td>852.03</td>\n",
       "      <td>0.0</td>\n",
       "      <td>806.32</td>\n",
       "      <td>821.23</td>\n",
       "      <td>0.0</td>\n",
       "      <td>776.46</td>\n",
       "      <td>788.15</td>\n",
       "      <td>0.00</td>\n",
       "      <td>767.29</td>\n",
       "      <td>2020</td>\n",
       "    </tr>\n",
       "    <tr>\n",
       "      <th>1</th>\n",
       "      <td>2</td>\n",
       "      <td>748.74</td>\n",
       "      <td>0.0</td>\n",
       "      <td>818.32</td>\n",
       "      <td>863.81</td>\n",
       "      <td>0.0</td>\n",
       "      <td>796.46</td>\n",
       "      <td>816.29</td>\n",
       "      <td>0.0</td>\n",
       "      <td>770.59</td>\n",
       "      <td>785.04</td>\n",
       "      <td>771.92</td>\n",
       "      <td>760.16</td>\n",
       "      <td>2020</td>\n",
       "    </tr>\n",
       "  </tbody>\n",
       "</table>\n",
       "</div>"
      ],
      "text/plain": [
       "  Día     Ene  Feb     Mar     Abr  May     Jun     Jul  Ago     Sep     Oct  \\\n",
       "0   1    0.00  0.0    0.00  852.03  0.0  806.32  821.23  0.0  776.46  788.15   \n",
       "1   2  748.74  0.0  818.32  863.81  0.0  796.46  816.29  0.0  770.59  785.04   \n",
       "\n",
       "      Nov     Dic  year  \n",
       "0    0.00  767.29  2020  \n",
       "1  771.92  760.16  2020  "
      ]
     },
     "execution_count": 153,
     "metadata": {},
     "output_type": "execute_result"
    }
   ],
   "source": [
    "dolar_2020_regex.head(2)"
   ]
  },
  {
   "cell_type": "code",
   "execution_count": 147,
   "metadata": {},
   "outputs": [],
   "source": [
    "dolar_2019.fillna(0, inplace=True)\n",
    "dolar_2020_txt.fillna(0, inplace=True)\n",
    "dolar_2020_regex.fillna(0, inplace=True)\n",
    "columnas = dolar_2019.columns.to_list()[1:-1]\n",
    "for i in columnas:\n",
    "    dolar_2019[f'{i}']=dolar_2019[f'{i}'].astype(float)\n",
    "    dolar_2020_txt[f'{i}']=dolar_2020_txt[f'{i}'].astype(float)\n",
    "    dolar_2020_regex[f'{i}'] = dolar_2020_regex[f'{i}'].map(lambda x: 0 if len(x)==0 else x)\n",
    "    dolar_2020_regex[f'{i}']=dolar_2020_regex[f'{i}'].astype(float)\n",
    "# dolar_2019  = dolar_2019.convert_dtypes(convert_floating=True)\n",
    "#dolar_2019.apply(pd.to_numeric)\n",
    "\n",
    "#df.astype(np.float64) \n"
   ]
  },
  {
   "cell_type": "markdown",
   "metadata": {},
   "source": [
    "### Exporte estos tres dataframes en la carpeta data/interim de la siguiente forma:\n",
    "\n",
    "dolar_2019 en formato csv, separado por comas, con nombre d2019.csv\n",
    "dolar_2020_txt en formato txt, separado por un espacio simple, con nombre d2020.txt.\n",
    "dolar_2020_regex en formato CSV, separado por \";\", de nombre dolar_2020_excel.csv"
   ]
  },
  {
   "cell_type": "code",
   "execution_count": 151,
   "metadata": {},
   "outputs": [],
   "source": [
    "dolar_2019.to_csv('../data/interim/d2019.csv', sep=',')\n",
    "dolar_2020_txt.to_csv('../data/interim/d2020.txt', sep=' ')\n",
    "dolar_2020_regex.to_csv('../data/interim/dolar_2020_excel.csv', sep=';')"
   ]
  },
  {
   "cell_type": "markdown",
   "metadata": {},
   "source": [
    "### Concatene con pd.concat de dos formas:\n",
    "\n",
    "dolar_2019 y dolar_2020_txt solo con el argumento axis=1 guardandolo en el dataframe df_concat_1\n",
    "dolar_2019 y dolar_2020_txt solo con el argumento axis=0 guardandolo en el dataframe df_concat_0 ¿Qué problema podríamos tener con las columnas en df_concat_1 y en los índices en df_concat_0?\n"
   ]
  },
  {
   "cell_type": "code",
   "execution_count": 152,
   "metadata": {},
   "outputs": [],
   "source": [
    "df_concat_1 = pd.concat([dolar_2019, dolar_2020_txt], axis=1)\n",
    "df_concat_0 = pd.concat([dolar_2019, dolar_2020_txt], axis=0)"
   ]
  }
 ],
 "metadata": {
  "interpreter": {
   "hash": "fe291cca2e7cd593d163d3404b0a3fcb6a75f18411a6713bd952023cb029caf6"
  },
  "kernelspec": {
   "display_name": "Python 3.10.4 ('mdd')",
   "language": "python",
   "name": "python3"
  },
  "language_info": {
   "codemirror_mode": {
    "name": "ipython",
    "version": 3
   },
   "file_extension": ".py",
   "mimetype": "text/x-python",
   "name": "python",
   "nbconvert_exporter": "python",
   "pygments_lexer": "ipython3",
   "version": "3.10.4"
  },
  "orig_nbformat": 4
 },
 "nbformat": 4,
 "nbformat_minor": 2
}
